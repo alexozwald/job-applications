{
 "cells": [
  {
   "cell_type": "markdown",
   "id": "be02a46a-efc7-468f-9132-f3f40285f8b0",
   "metadata": {},
   "source": [
    "# pison tech robots coding challenge\n",
    "\n",
    "ready. set. go.\n",
    "imports n vars first"
   ]
  },
  {
   "cell_type": "code",
   "execution_count": 1,
   "id": "4033b5ff-7ddb-44ce-94eb-2469fd758895",
   "metadata": {},
   "outputs": [],
   "source": [
    "import scipy\n",
    "import scipy.signal\n",
    "import pandas as pd\n",
    "import seaborn as sns\n",
    "import matplotlib.pyplot as plt"
   ]
  },
  {
   "cell_type": "code",
   "execution_count": 2,
   "id": "4cb433cb-07cb-4ba2-979c-2fe431a89707",
   "metadata": {},
   "outputs": [],
   "source": [
    "IN_FILE = './intern_set.csv'\n",
    "COL1 = 'ch1'\n",
    "COL2 = 'timestamp'"
   ]
  },
  {
   "cell_type": "markdown",
   "id": "57caa182-464d-438b-83d0-783ca0253224",
   "metadata": {},
   "source": [
    "precreate graphing func for simplicity"
   ]
  },
  {
   "cell_type": "code",
   "execution_count": 3,
   "id": "e5c17b8c-fe05-4278-9ed1-a661e8d0c8e8",
   "metadata": {},
   "outputs": [],
   "source": [
    "sns.set_theme()\n",
    "def plott(df: pd.DataFrame, x:str, y:str, xname:str = '', yname:str = '') -> None:\n",
    "    f = sns.lineplot(data=df, x=x, y=y)\n",
    "    if xname:\n",
    "        f.set(xlabel=xname)\n",
    "    if yname:\n",
    "        f.set(ylabel=yname)\n",
    "    plt.show()\n"
   ]
  },
  {
   "cell_type": "markdown",
   "id": "d65cc3ff-5970-4433-a181-9c824a7269d4",
   "metadata": {},
   "source": [
    "import data and fix it"
   ]
  },
  {
   "cell_type": "code",
   "execution_count": null,
   "id": "b13be649-065b-4239-91db-35eb538633bf",
   "metadata": {},
   "outputs": [],
   "source": []
  }
 ],
 "metadata": {
  "kernelspec": {
   "display_name": "Python 3 (ipykernel)",
   "language": "python",
   "name": "python3"
  },
  "language_info": {
   "codemirror_mode": {
    "name": "ipython",
    "version": 3
   },
   "file_extension": ".py",
   "mimetype": "text/x-python",
   "name": "python",
   "nbconvert_exporter": "python",
   "pygments_lexer": "ipython3",
   "version": "3.10.5"
  }
 },
 "nbformat": 4,
 "nbformat_minor": 5
}
